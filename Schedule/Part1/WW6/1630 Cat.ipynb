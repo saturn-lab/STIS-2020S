{
 "cells": [
  {
   "cell_type": "markdown",
   "metadata": {},
   "source": [
    "# Cat\n",
    "> 2017011630 袁乐康 男 自动化系 自75"
   ]
  },
  {
   "cell_type": "code",
   "execution_count": 2,
   "metadata": {},
   "outputs": [],
   "source": [
    "from random import randint\n",
    "from time import sleep\n",
    "\n",
    "class cat:\n",
    "    def __init__(self):\n",
    "        self.eye = \"'\"\n",
    "        self.mouth = \"ω\"\n",
    "        self.face = ['(๑','๑)']\n",
    "        self.paw = 'ฅ'\n",
    "        self.tail = '~'\n",
    "        self.update_body()\n",
    "        print('! A black cat appears!')\n",
    "        print(self.body)\n",
    "        sleep(0.5)\n",
    "        \n",
    "        \n",
    "    def update_body(self):\n",
    "        self.body = self.paw+self.face[0]+self.eye+self.mouth+self.eye+self.face[1]+self.paw+'  '+self.tail\n",
    "            \n",
    "    def _choose_from(self,l):\n",
    "        i = randint(0,len(l)-1)\n",
    "        return l[i]\n",
    "        \n",
    "    def move_eye(self):\n",
    "        self.eye = self._choose_from(['＾','•','T','-'])\n",
    "        \n",
    "    def move_paw(self):\n",
    "        self.paw = self._choose_from(['ฅ','ฅ','ԅ','۶'])\n",
    "    \n",
    "    def move_mouth(self):\n",
    "        self.mouth = self._choose_from(['0','ω','_','x'])\n",
    "    \n",
    "    def move_tail(self):\n",
    "        self.tail = self._choose_from(['~','_'])\n",
    "    \n",
    "    def miao(self):\n",
    "        print('~~~maow~~~~',end = '\\r')\n",
    "    \n",
    "    def welcome(self):\n",
    "        print('Black cat: welcome!')\n",
    "        self.move_paw()\n",
    "        self.update_body()\n",
    "        print(self.body)\n",
    "        self.miao()\n",
    "        sleep(0.5)\n",
    "\n",
    "    def showlove(self):\n",
    "        print('Black cat shows love to you!')\n",
    "        self.miao()\n",
    "        print(self.body)\n",
    "        self.miao()\n",
    "        sleep(0.5)\n",
    "    \n",
    "    def dance(self):\n",
    "        print('Black cat starts dancing! Ohhhhhhh!')\n",
    "        for i in range(300):\n",
    "            self._dance()\n",
    "        \n",
    "    def _dance(self):\n",
    "        sleep(0.1)\n",
    "        self.move_eye()\n",
    "        self.move_paw()\n",
    "        self.update_body()\n",
    "        print(self.body,end='\\r')\n",
    "        sleep(0.1)\n",
    "        self.move_mouth()\n",
    "        self.move_tail()\n",
    "        self.update_body()\n",
    "        print(self.body,end='\\r')\n",
    "        sleep(0.1)\n",
    "        if randint(0,100) > 90:\n",
    "            self.miao()"
   ]
  },
  {
   "cell_type": "code",
   "execution_count": 4,
   "metadata": {},
   "outputs": [
    {
     "name": "stdout",
     "output_type": "stream",
     "text": [
      "! A black cat appears!\n",
      "ฅ(๑'ω'๑)ฅ  ~\n",
      "Black cat: welcome!\n",
      "۶(๑'ω'๑)۶  ~\n",
      "Black cat shows love to you!\n",
      "۶(๑'ω'๑)۶  ~\n",
      "Black cat starts dancing! Ohhhhhhh!\n",
      "ฅ(๑•x•๑)ฅ  _\r"
     ]
    },
    {
     "ename": "KeyboardInterrupt",
     "evalue": "",
     "output_type": "error",
     "traceback": [
      "\u001b[0;31m---------------------------------------------------------------------------\u001b[0m",
      "\u001b[0;31mKeyboardInterrupt\u001b[0m                         Traceback (most recent call last)",
      "\u001b[0;32m<ipython-input-4-d9e6fd4f3b14>\u001b[0m in \u001b[0;36m<module>\u001b[0;34m\u001b[0m\n\u001b[1;32m      2\u001b[0m \u001b[0mฅzωzฅ\u001b[0m\u001b[0;34m.\u001b[0m\u001b[0mwelcome\u001b[0m\u001b[0;34m(\u001b[0m\u001b[0;34m)\u001b[0m\u001b[0;34m\u001b[0m\u001b[0;34m\u001b[0m\u001b[0m\n\u001b[1;32m      3\u001b[0m \u001b[0mฅzωzฅ\u001b[0m\u001b[0;34m.\u001b[0m\u001b[0mshowlove\u001b[0m\u001b[0;34m(\u001b[0m\u001b[0;34m)\u001b[0m\u001b[0;34m\u001b[0m\u001b[0;34m\u001b[0m\u001b[0m\n\u001b[0;32m----> 4\u001b[0;31m \u001b[0mฅzωzฅ\u001b[0m\u001b[0;34m.\u001b[0m\u001b[0mdance\u001b[0m\u001b[0;34m(\u001b[0m\u001b[0;34m)\u001b[0m\u001b[0;34m\u001b[0m\u001b[0;34m\u001b[0m\u001b[0m\n\u001b[0m",
      "\u001b[0;32m<ipython-input-2-e7a7ee57c974>\u001b[0m in \u001b[0;36mdance\u001b[0;34m(self)\u001b[0m\n\u001b[1;32m     55\u001b[0m         \u001b[0mprint\u001b[0m\u001b[0;34m(\u001b[0m\u001b[0;34m'Black cat starts dancing! Ohhhhhhh!'\u001b[0m\u001b[0;34m)\u001b[0m\u001b[0;34m\u001b[0m\u001b[0;34m\u001b[0m\u001b[0m\n\u001b[1;32m     56\u001b[0m         \u001b[0;32mfor\u001b[0m \u001b[0mi\u001b[0m \u001b[0;32min\u001b[0m \u001b[0mrange\u001b[0m\u001b[0;34m(\u001b[0m\u001b[0;36m300\u001b[0m\u001b[0;34m)\u001b[0m\u001b[0;34m:\u001b[0m\u001b[0;34m\u001b[0m\u001b[0;34m\u001b[0m\u001b[0m\n\u001b[0;32m---> 57\u001b[0;31m             \u001b[0mself\u001b[0m\u001b[0;34m.\u001b[0m\u001b[0m_dance\u001b[0m\u001b[0;34m(\u001b[0m\u001b[0;34m)\u001b[0m\u001b[0;34m\u001b[0m\u001b[0;34m\u001b[0m\u001b[0m\n\u001b[0m\u001b[1;32m     58\u001b[0m \u001b[0;34m\u001b[0m\u001b[0m\n\u001b[1;32m     59\u001b[0m     \u001b[0;32mdef\u001b[0m \u001b[0m_dance\u001b[0m\u001b[0;34m(\u001b[0m\u001b[0mself\u001b[0m\u001b[0;34m)\u001b[0m\u001b[0;34m:\u001b[0m\u001b[0;34m\u001b[0m\u001b[0;34m\u001b[0m\u001b[0m\n",
      "\u001b[0;32m<ipython-input-2-e7a7ee57c974>\u001b[0m in \u001b[0;36m_dance\u001b[0;34m(self)\u001b[0m\n\u001b[1;32m     58\u001b[0m \u001b[0;34m\u001b[0m\u001b[0m\n\u001b[1;32m     59\u001b[0m     \u001b[0;32mdef\u001b[0m \u001b[0m_dance\u001b[0m\u001b[0;34m(\u001b[0m\u001b[0mself\u001b[0m\u001b[0;34m)\u001b[0m\u001b[0;34m:\u001b[0m\u001b[0;34m\u001b[0m\u001b[0;34m\u001b[0m\u001b[0m\n\u001b[0;32m---> 60\u001b[0;31m         \u001b[0msleep\u001b[0m\u001b[0;34m(\u001b[0m\u001b[0;36m0.1\u001b[0m\u001b[0;34m)\u001b[0m\u001b[0;34m\u001b[0m\u001b[0;34m\u001b[0m\u001b[0m\n\u001b[0m\u001b[1;32m     61\u001b[0m         \u001b[0mself\u001b[0m\u001b[0;34m.\u001b[0m\u001b[0mmove_eye\u001b[0m\u001b[0;34m(\u001b[0m\u001b[0;34m)\u001b[0m\u001b[0;34m\u001b[0m\u001b[0;34m\u001b[0m\u001b[0m\n\u001b[1;32m     62\u001b[0m         \u001b[0mself\u001b[0m\u001b[0;34m.\u001b[0m\u001b[0mmove_paw\u001b[0m\u001b[0;34m(\u001b[0m\u001b[0;34m)\u001b[0m\u001b[0;34m\u001b[0m\u001b[0;34m\u001b[0m\u001b[0m\n",
      "\u001b[0;31mKeyboardInterrupt\u001b[0m: "
     ]
    }
   ],
   "source": [
    "ฅzωzฅ = cat()\n",
    "ฅzωzฅ.welcome()\n",
    "ฅzωzฅ.showlove()\n",
    "ฅzωzฅ.dance()"
   ]
  },
  {
   "cell_type": "code",
   "execution_count": null,
   "metadata": {},
   "outputs": [],
   "source": []
  }
 ],
 "metadata": {
  "kernelspec": {
   "display_name": "Python 3",
   "language": "python",
   "name": "python3"
  },
  "language_info": {
   "codemirror_mode": {
    "name": "ipython",
    "version": 3
   },
   "file_extension": ".py",
   "mimetype": "text/x-python",
   "name": "python",
   "nbconvert_exporter": "python",
   "pygments_lexer": "ipython3",
   "version": "3.7.7"
  }
 },
 "nbformat": 4,
 "nbformat_minor": 2
}
